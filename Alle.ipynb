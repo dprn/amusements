{
 "cells": [
  {
   "cell_type": "code",
   "execution_count": 1,
   "metadata": {
    "collapsed": false,
    "scrolled": true
   },
   "outputs": [
    {
     "data": {
      "text/plain": [
       "test (generic function with 1 method)"
      ]
     },
     "execution_count": 1,
     "metadata": {},
     "output_type": "execute_result"
    }
   ],
   "source": [
    "function test(n::Integer, minval::Integer)\n",
    "    for k in 1:n\n",
    "        if rand(1:6) >= minval\n",
    "            return true\n",
    "        end\n",
    "    end\n",
    "    return false\n",
    "end"
   ]
  },
  {
   "cell_type": "code",
   "execution_count": 2,
   "metadata": {
    "collapsed": false
   },
   "outputs": [
    {
     "data": {
      "text/plain": [
       "batch_test (generic function with 1 method)"
      ]
     },
     "execution_count": 2,
     "metadata": {},
     "output_type": "execute_result"
    }
   ],
   "source": [
    "function batch_test(iter, n, minval)\n",
    "    c = 0\n",
    "    for i in 1:iter\n",
    "        if test(n, minval)\n",
    "            c += 1\n",
    "        end\n",
    "    end\n",
    "    return (c/iter)*100 |> x->round(x, 1)\n",
    "end"
   ]
  },
  {
   "cell_type": "code",
   "execution_count": 3,
   "metadata": {
    "collapsed": false
   },
   "outputs": [
    {
     "data": {
      "text/plain": [
       "1000000"
      ]
     },
     "execution_count": 3,
     "metadata": {},
     "output_type": "execute_result"
    }
   ],
   "source": [
    "const ITER = 10^6 |> round"
   ]
  },
  {
   "cell_type": "code",
   "execution_count": 4,
   "metadata": {
    "collapsed": false
   },
   "outputs": [],
   "source": [
    "using DataFrames"
   ]
  },
  {
   "cell_type": "code",
   "execution_count": 5,
   "metadata": {
    "collapsed": false
   },
   "outputs": [
    {
     "data": {
      "text/html": [
       "<table class=\"data-frame\"><thead><tr><th></th><th>two</th><th>three</th><th>four</th><th>five</th><th>six</th></tr></thead><tbody><tr><th>1</th><td>83.3</td><td>66.7</td><td>50.0</td><td>33.3</td><td>16.7</td></tr><tr><th>2</th><td>97.2</td><td>88.9</td><td>75.0</td><td>55.6</td><td>30.6</td></tr><tr><th>3</th><td>99.5</td><td>96.3</td><td>87.5</td><td>70.4</td><td>42.2</td></tr><tr><th>4</th><td>99.9</td><td>98.8</td><td>93.7</td><td>80.2</td><td>51.8</td></tr><tr><th>5</th><td>100.0</td><td>99.6</td><td>96.9</td><td>86.8</td><td>59.9</td></tr><tr><th>6</th><td>100.0</td><td>99.9</td><td>98.4</td><td>91.3</td><td>66.5</td></tr><tr><th>7</th><td>100.0</td><td>100.0</td><td>99.2</td><td>94.1</td><td>72.1</td></tr><tr><th>8</th><td>100.0</td><td>100.0</td><td>99.6</td><td>96.1</td><td>76.8</td></tr><tr><th>9</th><td>100.0</td><td>100.0</td><td>99.8</td><td>97.4</td><td>80.6</td></tr><tr><th>10</th><td>100.0</td><td>100.0</td><td>99.9</td><td>98.3</td><td>83.8</td></tr></tbody></table>"
      ],
      "text/plain": [
       "10×5 DataFrames.DataFrame\n",
       "│ Row │ two   │ three │ four │ five │ six  │\n",
       "├─────┼───────┼───────┼──────┼──────┼──────┤\n",
       "│ 1   │ 83.3  │ 66.7  │ 50.0 │ 33.3 │ 16.7 │\n",
       "│ 2   │ 97.2  │ 88.9  │ 75.0 │ 55.6 │ 30.6 │\n",
       "│ 3   │ 99.5  │ 96.3  │ 87.5 │ 70.4 │ 42.2 │\n",
       "│ 4   │ 99.9  │ 98.8  │ 93.7 │ 80.2 │ 51.8 │\n",
       "│ 5   │ 100.0 │ 99.6  │ 96.9 │ 86.8 │ 59.9 │\n",
       "│ 6   │ 100.0 │ 99.9  │ 98.4 │ 91.3 │ 66.5 │\n",
       "│ 7   │ 100.0 │ 100.0 │ 99.2 │ 94.1 │ 72.1 │\n",
       "│ 8   │ 100.0 │ 100.0 │ 99.6 │ 96.1 │ 76.8 │\n",
       "│ 9   │ 100.0 │ 100.0 │ 99.8 │ 97.4 │ 80.6 │\n",
       "│ 10  │ 100.0 │ 100.0 │ 99.9 │ 98.3 │ 83.8 │"
      ]
     },
     "execution_count": 5,
     "metadata": {},
     "output_type": "execute_result"
    }
   ],
   "source": [
    "df = DataFrame()\n",
    "df[:two] = map(x->batch_test(ITER,x,2),collect(1:10))\n",
    "gc()\n",
    "df[:three] = map(x->batch_test(ITER,x,3),collect(1:10))\n",
    "gc()\n",
    "df[:four] = map(x->batch_test(ITER,x,4),collect(1:10))\n",
    "gc()\n",
    "df[:five] = map(x->batch_test(ITER,x,5),collect(1:10))\n",
    "gc()\n",
    "df[:six] = map(x->batch_test(ITER,x,6),collect(1:10))\n",
    "gc()\n",
    "df"
   ]
  },
  {
   "cell_type": "code",
   "execution_count": null,
   "metadata": {
    "collapsed": true
   },
   "outputs": [],
   "source": []
  }
 ],
 "metadata": {
  "kernelspec": {
   "display_name": "Julia 0.5.0",
   "language": "julia",
   "name": "julia-0.5"
  },
  "language_info": {
   "file_extension": ".jl",
   "mimetype": "application/julia",
   "name": "julia",
   "version": "0.5.0"
  }
 },
 "nbformat": 4,
 "nbformat_minor": 1
}
